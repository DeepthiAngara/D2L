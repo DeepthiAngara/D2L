{
 "cells": [
  {
   "cell_type": "markdown",
   "metadata": {},
   "source": [
    "1.Run the code in this section. Change the conditional statement X == Y in this section to X < Y or X > Y, and then see what kind of tensor you can get."
   ]
  },
  {
   "cell_type": "code",
   "execution_count": 2,
   "metadata": {},
   "outputs": [],
   "source": [
    "import torch"
   ]
  },
  {
   "cell_type": "code",
   "execution_count": 3,
   "metadata": {},
   "outputs": [
    {
     "data": {
      "text/plain": [
       "(tensor([[1, 1, 1],\n",
       "         [2, 2, 2],\n",
       "         [3, 3, 3]]),\n",
       " tensor([[4, 4, 4],\n",
       "         [5, 5, 5],\n",
       "         [6, 6, 6]]))"
      ]
     },
     "execution_count": 3,
     "metadata": {},
     "output_type": "execute_result"
    }
   ],
   "source": [
    "X = torch.tensor([[1,1,1],[2,2,2],[3,3,3]])\n",
    "Y = torch.tensor([[4,4,4],[5,5,5],[6,6,6]])\n",
    "\n",
    "X,Y"
   ]
  },
  {
   "cell_type": "code",
   "execution_count": 4,
   "metadata": {},
   "outputs": [
    {
     "data": {
      "text/plain": [
       "tensor([[False, False, False],\n",
       "        [False, False, False],\n",
       "        [False, False, False]])"
      ]
     },
     "execution_count": 4,
     "metadata": {},
     "output_type": "execute_result"
    }
   ],
   "source": [
    "X == Y"
   ]
  },
  {
   "cell_type": "code",
   "execution_count": 5,
   "metadata": {},
   "outputs": [
    {
     "data": {
      "text/plain": [
       "tensor([[True, True, True],\n",
       "        [True, True, True],\n",
       "        [True, True, True]])"
      ]
     },
     "execution_count": 5,
     "metadata": {},
     "output_type": "execute_result"
    }
   ],
   "source": [
    "X < Y"
   ]
  },
  {
   "cell_type": "code",
   "execution_count": 8,
   "metadata": {},
   "outputs": [
    {
     "data": {
      "text/plain": [
       "tensor([[False, False, False],\n",
       "        [False, False, False],\n",
       "        [False, False, False]])"
      ]
     },
     "execution_count": 8,
     "metadata": {},
     "output_type": "execute_result"
    }
   ],
   "source": [
    "X > Y"
   ]
  },
  {
   "cell_type": "markdown",
   "metadata": {},
   "source": [
    "2. Replace the two tensors that operate by element in the broadcasting mechanism with other shapes, e.g., 3-dimensional tensors. Is the result the same as expected?"
   ]
  },
  {
   "cell_type": "code",
   "execution_count": 30,
   "metadata": {},
   "outputs": [
    {
     "data": {
      "text/plain": [
       "(tensor([[0.],\n",
       "         [1.],\n",
       "         [2.],\n",
       "         [3.],\n",
       "         [4.]]),\n",
       " tensor([[0, 1, 2, 3, 4]]))"
      ]
     },
     "execution_count": 30,
     "metadata": {},
     "output_type": "execute_result"
    }
   ],
   "source": [
    "##a = torch.arange(0, 5, dtype =torch.float32)\n",
    "##b = torch.arange(0, 4)\n",
    "\n",
    "a = torch.arange(5, dtype = torch.float32).reshape((5,1))\n",
    "b = torch.arange(5).reshape((1, 5))\n",
    "\n",
    "a,b"
   ]
  },
  {
   "cell_type": "code",
   "execution_count": 33,
   "metadata": {},
   "outputs": [
    {
     "name": "stdout",
     "output_type": "stream",
     "text": [
      "\n",
      " a + b =  tensor([[0., 1., 2., 3., 4.],\n",
      "        [1., 2., 3., 4., 5.],\n",
      "        [2., 3., 4., 5., 6.],\n",
      "        [3., 4., 5., 6., 7.],\n",
      "        [4., 5., 6., 7., 8.]])\n",
      "\n",
      " a - b =  tensor([[ 0., -1., -2., -3., -4.],\n",
      "        [ 1.,  0., -1., -2., -3.],\n",
      "        [ 2.,  1.,  0., -1., -2.],\n",
      "        [ 3.,  2.,  1.,  0., -1.],\n",
      "        [ 4.,  3.,  2.,  1.,  0.]])\n",
      "\n",
      " a * b =  tensor([[ 0.,  0.,  0.,  0.,  0.],\n",
      "        [ 0.,  1.,  2.,  3.,  4.],\n",
      "        [ 0.,  2.,  4.,  6.,  8.],\n",
      "        [ 0.,  3.,  6.,  9., 12.],\n",
      "        [ 0.,  4.,  8., 12., 16.]])\n",
      "\n",
      " a / b =  tensor([[nan, 0., 0., 0., 0.],\n",
      "        [inf, 1., 0., 0., 0.],\n",
      "        [inf, 2., 1., 0., 0.],\n",
      "        [inf, 3., 1., 1., 0.],\n",
      "        [inf, 4., 2., 1., 1.]])\n"
     ]
    }
   ],
   "source": [
    "print('\\n a + b = ', a + b)\n",
    "print('\\n a - b = ', a - b)\n",
    "print('\\n a * b = ', a * b)\n",
    "print('\\n a / b = ', a // b)"
   ]
  },
  {
   "cell_type": "code",
   "execution_count": null,
   "metadata": {},
   "outputs": [],
   "source": []
  }
 ],
 "metadata": {
  "kernelspec": {
   "display_name": "Python 3",
   "language": "python",
   "name": "python3"
  },
  "language_info": {
   "codemirror_mode": {
    "name": "ipython",
    "version": 3
   },
   "file_extension": ".py",
   "mimetype": "text/x-python",
   "name": "python",
   "nbconvert_exporter": "python",
   "pygments_lexer": "ipython3",
   "version": "3.7.6"
  }
 },
 "nbformat": 4,
 "nbformat_minor": 4
}
